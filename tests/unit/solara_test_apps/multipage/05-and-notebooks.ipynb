{
 "cells": [
  {
   "cell_type": "code",
   "execution_count": null,
   "metadata": {},
   "outputs": [],
   "source": [
    "import reacton.ipyvuetify as v\n",
    "import solara\n",
    "\n",
    "\n",
    "@solara.component\n",
    "def Page():\n",
    "    return v.Slider(label=\"Language\")"
   ]
  }
 ],
 "metadata": {
  "language_info": {
   "name": "python"
  },
  "orig_nbformat": 4
 },
 "nbformat": 4,
 "nbformat_minor": 2
}
